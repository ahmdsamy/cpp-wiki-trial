{
 "cells": [
  {
   "cell_type": "raw",
   "metadata": {},
   "source": [
    "In this tutorial We will discuss template functions,\n",
    "let’s say you wanted to write a function to calculate the maximum of two numbers.\n",
    "You might do so like this:"
   ]
  },
  {
   "cell_type": "code",
   "execution_count": null,
   "metadata": {},
   "outputs": [],
   "source": [
    "int maximum(int x, int y)\n",
    "{\n",
    "    return (x > y) ? x : y;\n",
    "}"
   ]
  },
  {
   "cell_type": "markdown",
   "metadata": {},
   "source": [
    "This function would work great -- for integers.\n",
    "What happens later when you realize your maximum() function needs to work with doubles?\n",
    "Traditionally, the answer would be to overload the max() function and create a new version that works with doubles:"
   ]
  },
  {
   "cell_type": "code",
   "execution_count": null,
   "metadata": {},
   "outputs": [],
   "source": [
    "double maximum(double x, double y)\n",
    "{\n",
    "    return (x > y) ? x : y;\n",
    "}"
   ]
  },
  {
   "cell_type": "markdown",
   "metadata": {},
   "source": [
    "Note that the code for the implementation of the double version of maximum() is exactly the same as for the int version of maximum()! In fact, this implementation would work for all sorts of different types: chars, ints, doubles.\n",
    "\n",
    "However, because C++ requires you to make your variables specific types, you’re stuck writing one function for each type you wish to use.\n",
    "\n",
    "Having to specify different “flavors” of the same function where the only thing that changes is the type of the parameters can become a maintenance headache and time-waster, and it also violates the generic programming guideline that duplicate code should be minimized as much as possible. Wouldn’t it be nice if we could write one version of maximum() that was able to work with parameters of ANY type?\n",
    "\n",
    "Welcome to the world of templates.\n",
    "\n",
    "In C++, function templates are functions that serve as a pattern for creating other similar functions. The basic idea behind function templates is to create a function without having to specify the exact type(s) of some or all of the variables. Instead, we define the function using placeholder types, called template type parameters.\n",
    "\n",
    "When you call a template function, the compiler creates a copy of the template, replacing the placeholder types with the actual variable types from the parameters in your function call! Using this methodology, the compiler can create multiple “flavors” of a function from one template!\n",
    "\n",
    "At this point, you’re probably wondering how to actually create function templates in C++. It turns out, it’s not all that difficult.\n",
    "\n",
    "In order to make this work, we need to tell the compiler two things:\n",
    "First, that this is a template definition,\n",
    "and second, the name of placeholder type. We can do both of those things in one line, using what is called a template parameter declaration:"
   ]
  },
  {
   "cell_type": "code",
   "execution_count": 2,
   "metadata": {},
   "outputs": [],
   "source": [
    "template <typename T> // this is the template parameter declaration\n",
    "T genericMaximum(T x, T y)\n",
    "{\n",
    "    return (x > y) ? x : y;\n",
    "}"
   ]
  },
  {
   "cell_type": "markdown",
   "metadata": {},
   "source": [
    "Let’s take a slightly closer look at the template parameter declaration. \n",
    "\n",
    "We start with the keyword \"template\" .. this tells the compiler that what follows is going to be a list of template parameters. We place all of our parameters inside angled brackets (<>). \n",
    "\n",
    "To create a template type parameter, use either the keyword typename or class. There is no difference between the two keywords in this context, so which you use is up to you. Then you name your type (usually “T”).\n",
    "\n",
    "so let's test our template function with arguments of different datatypes, first you have to run the previous code block containing the function definition by pressing on it then pressing (enter+shift) to execute it. \n",
    "After use (enter+shift) again with the next code blocks which call the genericMaximum template function with different datatypes arguments."
   ]
  },
  {
   "cell_type": "code",
   "execution_count": 2,
   "metadata": {},
   "outputs": [
    {
     "data": {
      "text/plain": [
       "10"
      ]
     },
     "execution_count": 2,
     "metadata": {},
     "output_type": "execute_result"
    }
   ],
   "source": [
    "genericMaximum(5,10)"
   ]
  },
  {
   "cell_type": "code",
   "execution_count": 3,
   "metadata": {},
   "outputs": [
    {
     "data": {
      "text/plain": [
       "2.6700000"
      ]
     },
     "execution_count": 3,
     "metadata": {},
     "output_type": "execute_result"
    }
   ],
   "source": [
    "genericMaximum(1.35,2.67)"
   ]
  },
  {
   "cell_type": "code",
   "execution_count": 4,
   "metadata": {},
   "outputs": [
    {
     "data": {
      "text/plain": [
       "'c'"
      ]
     },
     "execution_count": 4,
     "metadata": {},
     "output_type": "execute_result"
    }
   ],
   "source": [
    "genericMaximum('a','c')"
   ]
  },
  {
   "cell_type": "markdown",
   "metadata": {},
   "source": [
    "As you see our template function works with any datatype that supports the '>' greater than operator that is used in the function definition.\n",
    "\n",
    "If the template function uses multiple template type parameter, they can be separated by commas:"
   ]
  },
  {
   "cell_type": "code",
   "execution_count": null,
   "metadata": {},
   "outputs": [],
   "source": [
    "template <typename T1, typename T2>\n",
    "// template function here"
   ]
  },
  {
   "cell_type": "markdown",
   "metadata": {},
   "source": [
    "For functions using more than one type, it’s common to see them named “T1” and “T2”\n",
    "\n",
    "As you can see, template functions can save a lot of time, because you only need to write one function, and it will work with many different types. Once you get used to writing function templates, you’ll find they actually don’t take any longer to write than functions with actual types. Template functions reduce code maintenance, because duplicate code is reduced significantly. And finally, template functions can be safer, because there is no need to copy functions and change types by hand whenever you need the function to work with a new type!\n",
    "\n",
    "Now try to solve the following exercises:\n",
    "\n",
    "1- Create the C++ Function Template named swap so that it has two\n",
    "parameters of the same type.  A Template Function created from swap\n",
    "will exchange the values of these two parameters."
   ]
  },
  {
   "cell_type": "code",
   "execution_count": null,
   "metadata": {},
   "outputs": [],
   "source": [
    "// define your swap function here then execute the code using (shift+enter)"
   ]
  },
  {
   "cell_type": "code",
   "execution_count": null,
   "metadata": {},
   "outputs": [],
   "source": [
    "// test your swap function here to make sure it is working "
   ]
  },
  {
   "cell_type": "markdown",
   "metadata": {},
   "source": [
    "2- Create the C++ Function Template named multiples so that it has\n",
    "three parameters sum, x, and n.  The first two parameters will have\n",
    "the type represented by the function template type parameter WhatKind.\n",
    "n will always be int.  The return type is void.  All parameters are\n",
    "passed by value except for sum which is passed by reference.  A\n",
    "Template Function created from multiples will compute...\n",
    "\n",
    "        sum = 1 + x + 2x + 3x + ... + nx"
   ]
  },
  {
   "cell_type": "code",
   "execution_count": null,
   "metadata": {},
   "outputs": [],
   "source": [
    "// define your multiples function here then execute the code using (shift+enter)"
   ]
  },
  {
   "cell_type": "code",
   "execution_count": null,
   "metadata": {},
   "outputs": [],
   "source": [
    "// test your multiples function here to make sure it is working "
   ]
  }
 ],
 "metadata": {
  "kernelspec": {
   "display_name": "C++14",
   "language": "C++14",
   "name": "xcpp14"
  },
  "language_info": {
   "codemirror_mode": "text/x-c++src",
   "file_extension": ".cpp",
   "mimetype": "text/x-c++src",
   "name": "c++",
   "version": "14"
  }
 },
 "nbformat": 4,
 "nbformat_minor": 4
}
